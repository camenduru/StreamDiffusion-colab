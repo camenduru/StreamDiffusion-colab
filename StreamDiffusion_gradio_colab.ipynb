{
  "cells": [
    {
      "cell_type": "markdown",
      "metadata": {
        "id": "view-in-github"
      },
      "source": [
        "[![Open In Colab](https://colab.research.google.com/assets/colab-badge.svg)](https://colab.research.google.com/github/camenduru/StreamDiffusion-colab/blob/main/StreamDiffusion_gradio_colab.ipynb)"
      ]
    },
    {
      "cell_type": "code",
      "execution_count": null,
      "metadata": {
        "id": "VjYy0F2gZIPR"
      },
      "outputs": [],
      "source": [
        "!pip install git+https://github.com/cumulo-autumn/StreamDiffusion.git@main#egg=streamdiffusion\n",
        "!python -m streamdiffusion.tools.install-tensorrt\n",
        "!pip install https://download.pytorch.org/whl/cu121/xformers-0.0.22.post7-cp310-cp310-manylinux2014_x86_64.whl accelerate gradio==3.50.2\n",
        "\n",
        "import torch\n",
        "from diffusers import AutoencoderTiny, StableDiffusionPipeline\n",
        "\n",
        "from streamdiffusion import StreamDiffusion\n",
        "from streamdiffusion.image_utils import postprocess_image\n",
        "\n",
        "pipe = StableDiffusionPipeline.from_pretrained(\"KBlueLeaf/kohaku-v2.1\").to(\n",
        "    device=torch.device(\"cuda\"),\n",
        "    dtype=torch.float16,\n",
        ")\n",
        "\n",
        "stream = StreamDiffusion(\n",
        "    pipe,\n",
        "    t_index_list=[0, 16, 32, 45],\n",
        "    torch_dtype=torch.float16,\n",
        "    cfg_type=\"none\",\n",
        ")\n",
        "\n",
        "stream.load_lcm_lora()\n",
        "stream.fuse_lora()\n",
        "stream.vae = AutoencoderTiny.from_pretrained(\"madebyollin/taesd\").to(device=pipe.device, dtype=pipe.dtype)\n",
        "pipe.enable_xformers_memory_efficient_attention()\n",
        "\n",
        "import gradio as gr\n",
        "\n",
        "def generate(prompt):\n",
        "  stream.prepare(prompt)\n",
        "  for _ in range(4):\n",
        "    stream()\n",
        "  x_output = stream.txt2img()\n",
        "  image = postprocess_image(x_output, output_type=\"pil\")[0]\n",
        "  return image.resize((512, 512))\n",
        "\n",
        "with gr.Blocks(title=f\"Realtime SDXL Turbo\", css=\".gradio-container {max-width: 544px !important}\") as demo:\n",
        "    with gr.Row():\n",
        "      with gr.Column():\n",
        "          textbox = gr.Textbox(show_label=False, value=\"a close-up picture of a fluffy cat\")\n",
        "          button = gr.Button()\n",
        "    with gr.Row(variant=\"default\"):\n",
        "        output_image = gr.Image(\n",
        "            show_label=False,\n",
        "            type=\"pil\",\n",
        "            interactive=False,\n",
        "            height=512,\n",
        "            width=512,\n",
        "            elem_id=\"output_image\",\n",
        "        )\n",
        "    button.click(fn=generate, inputs=[textbox], outputs=[output_image], show_progress=False)\n",
        "\n",
        "demo.queue().launch(inline=False, share=True, debug=True)"
      ]
    }
  ],
  "metadata": {
    "accelerator": "GPU",
    "colab": {
      "gpuType": "T4",
      "provenance": []
    },
    "kernelspec": {
      "display_name": "Python 3",
      "name": "python3"
    },
    "language_info": {
      "name": "python"
    }
  },
  "nbformat": 4,
  "nbformat_minor": 0
}
